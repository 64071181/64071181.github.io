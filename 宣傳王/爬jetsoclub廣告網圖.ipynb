

import requests
from bs4 import BeautifulSoup
import re
from datetime import datetime

def scrape_and_format_jetsoclub():
    base_url = 'https://www.jetsoclub.com/'

    # 數據頭
    print('// 模擬從資料庫讀取廣告資料 \nconst allAds = [')
    # 取得首頁
    response = requests.get(base_url)
    soup = BeautifulSoup(response.text, 'html.parser')

    # 查找所有連結
    links = soup.find_all('a', href=re.compile(r'https://www\.jetsoclub\.com/\d{4}/\d{2}/.*\.html'))

    formatted_data = []
    ad_counter = 1

    for link in links:
        article_url = link['href']
        article_title = link.text.strip()

        # 取得文章頁面
        article_response = requests.get(article_url)
        article_soup = BeautifulSoup(article_response.text, 'html.parser')

        # 尋找所有圖像
        images = article_soup.find_all('img', src=re.compile(r'https://blogger\.googleusercontent\.com/img/.*\.jpg'))

        # 尋找類別
        categories = article_soup.find_all('span', class_='post-labels')
        category_list = []
        if categories:
            category_links = categories[0].find_all('a')
            category_list = [cat.text.strip() for cat in category_links]

        # 從標題中提取日期
        date_match = re.search(r'\((\d{1,2}/\d{1,2})\)', article_title)
        if date_match:
            date_str = date_match.group(1)
            date = datetime.strptime(date_str, '%d/%m')
            date_id = date.strftime('%Y%m%d')
        else:
            date_id = datetime.now().strftime('%Y%m%d')

        # 從標題提取商家
        merchant = article_title.split('：')[0] if '：' in article_title else ''


        print(f"  //Title: {article_title}")

        for img_index, img in enumerate(images, start=1):
            img_src = img['src']
            formatted_item = {
                'id': f'ad{date_id}_{ad_counter:02d}',
                'imageSrc': img_src,
                'region': '全香港',
                'industry': category_list[0] if category_list else '',
                'merchant': merchant,
                'keywords': [merchant] + category_list
            }

            print(f"  ,{formatted_item}")
            formatted_data.append(formatted_item)
            ad_counter += 1

        print()  # 在標題之間新增一個空白行

    #返回格式化數據
    print('];')

# 執行刮刀和格式化程序
scrape_and_format_jetsoclub()